{
 "cells": [
  {
   "cell_type": "code",
   "execution_count": 5,
   "id": "19604cf2",
   "metadata": {},
   "outputs": [
    {
     "name": "stdout",
     "output_type": "stream",
     "text": [
      "2024 년\n",
      "3 월\n",
      "13 일\n",
      "13 시\n",
      "30 분\n",
      "52 초\n"
     ]
    }
   ],
   "source": [
    "#날짜/시간과 관련된 기능을 가져옵니다.\n",
    "import datetime\n",
    "#현재 날짜/시간을 구합니다.\n",
    "\n",
    "now = datetime.datetime.now()\n",
    "print(now.year,\"년\")\n",
    "print(now.month,\"월\")\n",
    "print(now.day,\"일\")\n",
    "print(now.hour,\"시\")\n",
    "print(now.minute,\"분\")\n",
    "print(now.second,\"초\")"
   ]
  },
  {
   "cell_type": "code",
   "execution_count": 2,
   "id": "767c7c83",
   "metadata": {},
   "outputs": [
    {
     "name": "stdout",
     "output_type": "stream",
     "text": [
      "2024년 3월 13일 13시 35분 2초\n"
     ]
    }
   ],
   "source": [
    "import datetime\n",
    "\n",
    "now = datetime.datetime.now()\n",
    "\n",
    "print(\"{}년 {}월 {}일 {}시 {}분 {}초\".format(\n",
    "    now.year,\n",
    "    now.month,\n",
    "    now.day,\n",
    "    now.hour,\n",
    "    now.minute,\n",
    "    now.second\n",
    "))"
   ]
  },
  {
   "cell_type": "markdown",
   "id": "255ec095",
   "metadata": {},
   "source": [
    "이제 날짜/시간 조건문을 활용해 현재 시각을 12시 이전과 12시 이후로 나누어 오전과 오후를 구분하는 프로그램을 작성해보겠ㅅ브니다.\n",
    "\n",
    "대부분의 프로그래밍 언어는 월을 0~11까지로 출력합니다.\n",
    "이는 문자열의 첫 번재 글자를 0번재라고 세었던 것처럼 프로그래밍 언어의 규칙을 지키기 위한 목적입니다.\n",
    "하지만 사람이 볼 때는 자주 헷갈리는 부분입니다.\n",
    "\n",
    "따라서 파이썬은 사람이 이해하기 쉬운 형태로 월을 출력합니다.\n",
    "현재 실행 결과를 보면 3월을 기준으로 3월을 그대로 출력합니다.\n",
    "다른 프로그래밍 언어와 다릅니다."
   ]
  },
  {
   "cell_type": "code",
   "execution_count": 4,
   "id": "8bd9175f",
   "metadata": {},
   "outputs": [
    {
     "name": "stdout",
     "output_type": "stream",
     "text": [
      "현재 시각은 13시로 오후입니다\n"
     ]
    }
   ],
   "source": [
    "import datetime\n",
    "\n",
    "now = datetime.datetime.now()\n",
    "\n",
    "#오전 구분\n",
    "if now.hour < 12:\n",
    "    print(\"현재 시각은 {}시로 오전입니다.\".format(now.hour))\n",
    "    \n",
    "#오후 구분\n",
    "if now.hour > 12:\n",
    "    print(\"현재 시각은 {}시로 오후입니다\".format(now.hour))"
   ]
  },
  {
   "cell_type": "code",
   "execution_count": 5,
   "id": "14fec3e6",
   "metadata": {},
   "outputs": [
    {
     "name": "stdout",
     "output_type": "stream",
     "text": [
      "이번 달은 3월로 봄입니다\n"
     ]
    }
   ],
   "source": [
    "import datetime\n",
    "\n",
    "now = datetime.datetime.now()\n",
    "\n",
    "if 3 <= now.month <=5:\n",
    "    print(\"이번 달은 {}월로 봄입니다\".format(now.month))\n",
    "    \n",
    "\n",
    "if 6 <= now.month <= 8:\n",
    "    print(\"이번 달은 {}월로 여름입니다.\".format(now.month))\n",
    "    \n",
    "    \n",
    "if 9 <= now.month <= 11:\n",
    "    print(\"이번 달은 {}월로 가을입니다\".format(now.month))\n",
    "    \n",
    "if 12 <= now.month <=2:\n",
    "    print(\"이번 달은 {}월로 겨울입니다\".format(now.month))"
   ]
  },
  {
   "cell_type": "code",
   "execution_count": null,
   "id": "1b0ee060",
   "metadata": {},
   "outputs": [],
   "source": []
  }
 ],
 "metadata": {
  "kernelspec": {
   "display_name": "Python 3 (ipykernel)",
   "language": "python",
   "name": "python3"
  },
  "language_info": {
   "codemirror_mode": {
    "name": "ipython",
    "version": 3
   },
   "file_extension": ".py",
   "mimetype": "text/x-python",
   "name": "python",
   "nbconvert_exporter": "python",
   "pygments_lexer": "ipython3",
   "version": "3.9.13"
  }
 },
 "nbformat": 4,
 "nbformat_minor": 5
}
