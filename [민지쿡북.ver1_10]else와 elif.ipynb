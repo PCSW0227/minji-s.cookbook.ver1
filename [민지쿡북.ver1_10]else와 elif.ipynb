{
 "cells": [
  {
   "cell_type": "markdown",
   "id": "4a160deb",
   "metadata": {},
   "source": [
    "else 조건문의 활용\n",
    "\n",
    "프로그래밍 언어는 else 구문이라는 기능을 제공합니다.\n",
    "else구문은 if 조건문의 조건이 거짓일 때 실행되는 부분입니다.\n",
    "\n",
    "if 조건:\n",
    "~조건이 참일 때 실행하는 문장\n",
    "else 조건:\n",
    "~조건이 거짓일 때 실행하는 문장"
   ]
  },
  {
   "cell_type": "code",
   "execution_count": 1,
   "id": "ce7f9c2a",
   "metadata": {},
   "outputs": [
    {
     "name": "stdout",
     "output_type": "stream",
     "text": [
      "정수를 입력하세요: 7\n",
      "홀수\n"
     ]
    }
   ],
   "source": [
    "# if 조건문에 else 구문을 추가해서 짝수와 홀수 구분하기\n",
    "\n",
    "number = input(\"정수를 입력하세요: \")\n",
    "number = int(number)\n",
    "\n",
    "# 조건문을 사용합니다.\n",
    "if number == 0:\n",
    "    print(\"짝수\")\n",
    "    \n",
    "else:\n",
    "    print(\"홀수\")"
   ]
  },
  {
   "cell_type": "markdown",
   "id": "41410d35",
   "metadata": {},
   "source": [
    "그런데 딱 두가지만으로구분되지 않은 것도 있습니다.\n",
    "예를 들어, 계절만 해도 네 개가 있으며, 요일만 해도 일곱 개가 있습니다.\n",
    "따라서 세 개 이상의 조건을 연결해서 사용하는 방법이 필요합니다.\n",
    "그것이 바로 elif 구문입니다.\n",
    "\n",
    "elif구문 if조건문 else 구문 사이에 입력하며 다음과 같은 형태로 사용합니다.\n",
    "\n",
    "if 조건A:\n",
    "~조건A가 참일 때 실행할 문장\n",
    "elif 조건B:\n",
    "~조건B가 참일 때 실행할 문장\n",
    "elif 조건C:\n",
    "~조건C가 참일 때 실행할 문장\n",
    "else:\n",
    "~모든 조건이 거짓일 때 문장"
   ]
  },
  {
   "cell_type": "code",
   "execution_count": 2,
   "id": "84ded0dc",
   "metadata": {},
   "outputs": [
    {
     "name": "stdout",
     "output_type": "stream",
     "text": [
      "봄\n"
     ]
    }
   ],
   "source": [
    "import datetime\n",
    "\n",
    "#현재 날짜/시간을 구하고, 쉽게 사용할 수 있게 월욜 변수에 저장\n",
    "now = datetime.datetime.now()\n",
    "month = now.month\n",
    "\n",
    "#조건문으로 계절 확인 \n",
    "\n",
    "if 3<= month <=5:\n",
    "    print(\"봄\")\n",
    "elif  6<= month <8:\n",
    "    print(\"여름\")\n",
    "elif 9<= month <=11:\n",
    "    print(\"가을\")\n",
    "else:\n",
    "    print(\"겨울\")"
   ]
  },
  {
   "cell_type": "code",
   "execution_count": null,
   "id": "7307a936",
   "metadata": {},
   "outputs": [],
   "source": []
  }
 ],
 "metadata": {
  "kernelspec": {
   "display_name": "Python 3 (ipykernel)",
   "language": "python",
   "name": "python3"
  },
  "language_info": {
   "codemirror_mode": {
    "name": "ipython",
    "version": 3
   },
   "file_extension": ".py",
   "mimetype": "text/x-python",
   "name": "python",
   "nbconvert_exporter": "python",
   "pygments_lexer": "ipython3",
   "version": "3.9.13"
  }
 },
 "nbformat": 4,
 "nbformat_minor": 5
}
