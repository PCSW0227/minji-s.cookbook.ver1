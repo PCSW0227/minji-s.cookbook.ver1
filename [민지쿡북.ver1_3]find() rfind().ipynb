{
 "cells": [
  {
   "cell_type": "markdown",
   "id": "13866aa1",
   "metadata": {},
   "source": [
    "문자열 내부에 특정 문자가 어디에 위치하는지 확인할 때, find()함수와 rfind()함수를 사용합니다.\n",
    "\n",
    "find() 왼쪽부터 찾아서 처음 등장하는 위치를 찾습니다.\n",
    "rfind() 오른쪽부터 찾아서 처음 등장하는 위치를 찾습니다."
   ]
  },
  {
   "cell_type": "code",
   "execution_count": 2,
   "id": "8094ad2e",
   "metadata": {},
   "outputs": [
    {
     "name": "stdout",
     "output_type": "stream",
     "text": [
      "0\n"
     ]
    }
   ],
   "source": [
    "output_a = \"안녕안녕하세요\".find(\"안녕\")\n",
    "print(output_a)"
   ]
  },
  {
   "cell_type": "code",
   "execution_count": 3,
   "id": "1df919cb",
   "metadata": {},
   "outputs": [
    {
     "name": "stdout",
     "output_type": "stream",
     "text": [
      "2\n"
     ]
    }
   ],
   "source": [
    "output_b = \"안녕안녕하세요\".rfind(\"안녕\")\n",
    "print(output_b)"
   ]
  },
  {
   "cell_type": "markdown",
   "id": "3087222d",
   "metadata": {},
   "source": [
    "문자열은 가장 앞글자를 0번째라고 셉니다. \n",
    "처음 안녕은 0번째 있는 것이고 두번째 안녕은 2번째부터 등장하는 것입니다.\n",
    "따라서 실행 결과로 0과 2가 나오는 것입니다. "
   ]
  },
  {
   "cell_type": "code",
   "execution_count": null,
   "id": "f7a052fb",
   "metadata": {},
   "outputs": [],
   "source": []
  }
 ],
 "metadata": {
  "kernelspec": {
   "display_name": "Python 3 (ipykernel)",
   "language": "python",
   "name": "python3"
  },
  "language_info": {
   "codemirror_mode": {
    "name": "ipython",
    "version": 3
   },
   "file_extension": ".py",
   "mimetype": "text/x-python",
   "name": "python",
   "nbconvert_exporter": "python",
   "pygments_lexer": "ipython3",
   "version": "3.9.13"
  }
 },
 "nbformat": 4,
 "nbformat_minor": 5
}
