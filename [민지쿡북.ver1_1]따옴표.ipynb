{
 "cells": [
  {
   "cell_type": "markdown",
   "id": "c9f008d7",
   "metadata": {},
   "source": [
    "02-1 자료형과 문자열\n",
    ": 문자열 만들기"
   ]
  },
  {
   "cell_type": "code",
   "execution_count": 1,
   "id": "db9a3e10",
   "metadata": {},
   "outputs": [
    {
     "name": "stdout",
     "output_type": "stream",
     "text": [
      "# 하나만 출력합니다\n"
     ]
    }
   ],
   "source": [
    "print(\"# 하나만 출력합니다\")"
   ]
  },
  {
   "cell_type": "code",
   "execution_count": 2,
   "id": "a705f464",
   "metadata": {},
   "outputs": [
    {
     "name": "stdout",
     "output_type": "stream",
     "text": [
      "안녕하세요 저의 이름은 장민지입니다.\n"
     ]
    }
   ],
   "source": [
    "print(\"안녕하세요\",\"저의\",\"이름은\",\"장민지입니다.\")"
   ]
  },
  {
   "cell_type": "code",
   "execution_count": 3,
   "id": "85a5a52f",
   "metadata": {},
   "outputs": [
    {
     "name": "stdout",
     "output_type": "stream",
     "text": [
      "안녕하세요 저의 이름은 장민지입니다.\n"
     ]
    }
   ],
   "source": [
    "print(\"안녕하세요 저의 이름은 장민지입니다.\")"
   ]
  },
  {
   "cell_type": "markdown",
   "id": "110c2f90",
   "metadata": {},
   "source": [
    "큰따옴표 작은따옴표 둘다, 문자열을 만들 수 있다."
   ]
  },
  {
   "cell_type": "code",
   "execution_count": 5,
   "id": "7af622fc",
   "metadata": {},
   "outputs": [
    {
     "name": "stdout",
     "output_type": "stream",
     "text": [
      "안녕하세요\n",
      "안녕하세요\n"
     ]
    }
   ],
   "source": [
    "print(\"안녕하세요\")\n",
    "print('안녕하세요')"
   ]
  },
  {
   "cell_type": "markdown",
   "id": "7d41c692",
   "metadata": {},
   "source": [
    "문자열 내부에 따옴표를 넣을 수 있다."
   ]
  },
  {
   "cell_type": "code",
   "execution_count": 6,
   "id": "6f27ad72",
   "metadata": {},
   "outputs": [
    {
     "name": "stdout",
     "output_type": "stream",
     "text": [
      "'안녕하세요'라고 말했습니다\n"
     ]
    }
   ],
   "source": [
    "print(\"'안녕하세요'라고 말했습니다\")"
   ]
  },
  {
   "cell_type": "markdown",
   "id": "22a576fa",
   "metadata": {},
   "source": [
    "02-2 자료형과 문자열 : 이스케이프 문자(줄바꿈, 탭)"
   ]
  },
  {
   "cell_type": "code",
   "execution_count": 7,
   "id": "33473dff",
   "metadata": {},
   "outputs": [
    {
     "name": "stdout",
     "output_type": "stream",
     "text": [
      "안녕하세요\n",
      "안녕하세요\n",
      "안녕하세요\t안녕하세요\n"
     ]
    }
   ],
   "source": [
    "print(\"안녕하세요\\n안녕하세요\")\n",
    "print(\"안녕하세요\\t안녕하세요\")"
   ]
  },
  {
   "cell_type": "markdown",
   "id": "5ce2d0ed",
   "metadata": {},
   "source": [
    "이스케이프 문자로 탭 사용하기"
   ]
  },
  {
   "cell_type": "code",
   "execution_count": 9,
   "id": "33d99c09",
   "metadata": {},
   "outputs": [
    {
     "name": "stdout",
     "output_type": "stream",
     "text": [
      "이름\t나이\t지역\n",
      "장민지\t29\t인천\n"
     ]
    }
   ],
   "source": [
    "print(\"이름\\t나이\\t지역\")\n",
    "print(\"장민지\\t29\\t인천\")"
   ]
  },
  {
   "cell_type": "markdown",
   "id": "3eaa8a41",
   "metadata": {},
   "source": [
    "\\\\은 역슬래시를 말합니다"
   ]
  },
  {
   "cell_type": "code",
   "execution_count": 10,
   "id": "4dab6ebf",
   "metadata": {},
   "outputs": [
    {
     "name": "stdout",
     "output_type": "stream",
     "text": [
      "\\ \\ \\ \\\n"
     ]
    }
   ],
   "source": [
    "print(\"\\\\ \\\\ \\\\ \\\\\")"
   ]
  },
  {
   "cell_type": "markdown",
   "id": "08d682a2",
   "metadata": {},
   "source": [
    "02-3 자료형과 문자열 : 문자열 붙이기"
   ]
  },
  {
   "cell_type": "code",
   "execution_count": 13,
   "id": "0755137c",
   "metadata": {},
   "outputs": [
    {
     "name": "stdout",
     "output_type": "stream",
     "text": [
      "안녕하세요\n"
     ]
    }
   ],
   "source": [
    "print(\"안녕\"+\"하세요\")"
   ]
  },
  {
   "cell_type": "code",
   "execution_count": 14,
   "id": "2bbee1a7",
   "metadata": {},
   "outputs": [
    {
     "name": "stdout",
     "output_type": "stream",
     "text": [
      "안녕하세요!\n"
     ]
    }
   ],
   "source": [
    "print(\"안녕하세요\"+\"!\")"
   ]
  },
  {
   "cell_type": "markdown",
   "id": "85c2d914",
   "metadata": {},
   "source": [
    "print(\"안녕하세요\"+1)은 TypeError : can only concatenate str (not \"int\") to str \n",
    "이라는 오류 메세지 나옴. 따라서, 문자열은 무조건 문자열끼리 연산자를 사용해서 연결해야 하고, 숫자라 하더라도 문자열과 함께\n",
    "+ 연산하려면 큰따옴표를 붙여 문자열로 인식시켜야만 오류 없이 결과를 얻을 수 있음."
   ]
  },
  {
   "cell_type": "markdown",
   "id": "11038f07",
   "metadata": {},
   "source": [
    "02-4 자료형과 문자열 : 문자열 반복 연산자"
   ]
  },
  {
   "cell_type": "code",
   "execution_count": 15,
   "id": "c309b261",
   "metadata": {},
   "outputs": [
    {
     "name": "stdout",
     "output_type": "stream",
     "text": [
      "안녕하세요안녕하세요안녕하세요\n"
     ]
    }
   ],
   "source": [
    "print(\"안녕하세요\"*3)"
   ]
  },
  {
   "cell_type": "code",
   "execution_count": 17,
   "id": "fcb69d0f",
   "metadata": {},
   "outputs": [
    {
     "name": "stdout",
     "output_type": "stream",
     "text": [
      "안\n",
      "녕\n",
      "하\n",
      "세\n"
     ]
    }
   ],
   "source": [
    "print(\"안녕하세요\"[0])\n",
    "print(\"안녕하세요\"[1])\n",
    "print(\"안녕하세요\"[2])\n",
    "print(\"안녕하세요\"[3])"
   ]
  },
  {
   "cell_type": "code",
   "execution_count": 18,
   "id": "3eb0e31f",
   "metadata": {},
   "outputs": [
    {
     "name": "stdout",
     "output_type": "stream",
     "text": [
      "안녕\n"
     ]
    }
   ],
   "source": [
    "print(\"안녕하세요\"[:2])"
   ]
  },
  {
   "cell_type": "code",
   "execution_count": 23,
   "id": "955c0a97",
   "metadata": {},
   "outputs": [
    {
     "name": "stdout",
     "output_type": "stream",
     "text": [
      "요\n"
     ]
    }
   ],
   "source": [
    "print(\"안녕하세요\"[-1])"
   ]
  },
  {
   "cell_type": "markdown",
   "id": "fe68f60c",
   "metadata": {},
   "source": [
    "02-5 자료형과 문자열 : 글자 개수 구하기"
   ]
  },
  {
   "cell_type": "code",
   "execution_count": 22,
   "id": "ce6fabc7",
   "metadata": {
    "scrolled": false
   },
   "outputs": [
    {
     "name": "stdout",
     "output_type": "stream",
     "text": [
      "5\n"
     ]
    }
   ],
   "source": [
    "print(len(\"안녕하세요\"))"
   ]
  }
 ],
 "metadata": {
  "kernelspec": {
   "display_name": "Python 3 (ipykernel)",
   "language": "python",
   "name": "python3"
  },
  "language_info": {
   "codemirror_mode": {
    "name": "ipython",
    "version": 3
   },
   "file_extension": ".py",
   "mimetype": "text/x-python",
   "name": "python",
   "nbconvert_exporter": "python",
   "pygments_lexer": "ipython3",
   "version": "3.9.13"
  }
 },
 "nbformat": 4,
 "nbformat_minor": 5
}
