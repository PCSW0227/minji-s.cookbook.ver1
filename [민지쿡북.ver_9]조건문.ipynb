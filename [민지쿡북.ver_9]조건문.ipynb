{
 "cells": [
  {
   "cell_type": "markdown",
   "id": "b738879d",
   "metadata": {},
   "source": [
    "조건문의 기본 사용"
   ]
  },
  {
   "cell_type": "code",
   "execution_count": 2,
   "id": "1f39b3e3",
   "metadata": {},
   "outputs": [
    {
     "name": "stdout",
     "output_type": "stream",
     "text": [
      "정수를 입력하세요 : 5\n",
      "양수입니다.\n"
     ]
    }
   ],
   "source": [
    "#입력을 받습니다\n",
    "number = input(\"정수를 입력하세요 : \")\n",
    "number = int(number)\n",
    "\n",
    "#양수 조건\n",
    "if number > 0:\n",
    "    print(\"양수입니다.\")\n",
    "    \n",
    "#음수 조건\n",
    "if number<0:\n",
    "    print(\"음수입니다.\")\n",
    "    \n",
    "#0조건\n",
    "if number == 0:\n",
    "    print(\"0입니다\")\n",
    "    "
   ]
  },
  {
   "cell_type": "code",
   "execution_count": null,
   "id": "3f5038ff",
   "metadata": {},
   "outputs": [],
   "source": []
  }
 ],
 "metadata": {
  "kernelspec": {
   "display_name": "Python 3 (ipykernel)",
   "language": "python",
   "name": "python3"
  },
  "language_info": {
   "codemirror_mode": {
    "name": "ipython",
    "version": 3
   },
   "file_extension": ".py",
   "mimetype": "text/x-python",
   "name": "python",
   "nbconvert_exporter": "python",
   "pygments_lexer": "ipython3",
   "version": "3.9.13"
  }
 },
 "nbformat": 4,
 "nbformat_minor": 5
}
