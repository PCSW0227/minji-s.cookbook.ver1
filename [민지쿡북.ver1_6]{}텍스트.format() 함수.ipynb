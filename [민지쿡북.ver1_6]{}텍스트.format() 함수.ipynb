{
 "cells": [
  {
   "cell_type": "markdown",
   "id": "a68113a3",
   "metadata": {},
   "source": [
    "format()함수는 문자열이 가지고 있는 함수 입니다. 중괄호{}를 포함한 문자열 뒤에 마침표(.)를 찍고 format()함수를 사용하는데,\n",
    "중괄호의 개수와 format 함수 괄호 안 매개변수의 개수는 반드시 같아야됩니다.\n",
    "\n",
    "{}{}.format(10,20)"
   ]
  },
  {
   "cell_type": "code",
   "execution_count": 1,
   "id": "6c83ef55",
   "metadata": {},
   "outputs": [
    {
     "name": "stdout",
     "output_type": "stream",
     "text": [
      "10\n",
      "<class 'str'>\n"
     ]
    }
   ],
   "source": [
    "#format()함수로 숫자를 문자열로 변환하기\n",
    "\n",
    "\n",
    "string_a = \"{}\".format(10)\n",
    "\n",
    "#출력\n",
    "print(string_a)\n",
    "print(type(string_a))"
   ]
  },
  {
   "cell_type": "code",
   "execution_count": 3,
   "id": "70968252",
   "metadata": {},
   "outputs": [
    {
     "name": "stdout",
     "output_type": "stream",
     "text": [
      "5000만 원\n",
      "파이썬을 열공하여 첫 연봉 5000만들기\n",
      "300040005000\n"
     ]
    }
   ],
   "source": [
    "format_a = \"{}만 원\".format(5000)\n",
    "format_b = \"파이썬을 열공하여 첫 연봉 {}만들기\".format(5000)\n",
    "format_c = \"{}{}{}\".format(3000,4000,5000)\n",
    "\n",
    "print(format_a)\n",
    "print(format_b)\n",
    "print(format_c)"
   ]
  },
  {
   "cell_type": "markdown",
   "id": "258d5843",
   "metadata": {},
   "source": [
    "#format()함수를 사용하면 출력할 정수에 기호를 넣어주거나, 숫자 형태를 다양하게 출력할 수 있습니다.\n"
   ]
  },
  {
   "cell_type": "code",
   "execution_count": 31,
   "id": "8c0ebdef",
   "metadata": {},
   "outputs": [
    {
     "name": "stdout",
     "output_type": "stream",
     "text": [
      "+52\n"
     ]
    }
   ],
   "source": [
    "output_f = \"{:+d}\".format(52) #양수 기호 출력\n",
    "print(output_f)"
   ]
  },
  {
   "cell_type": "code",
   "execution_count": 27,
   "id": "28a476b2",
   "metadata": {},
   "outputs": [
    {
     "name": "stdout",
     "output_type": "stream",
     "text": [
      "-52\n"
     ]
    }
   ],
   "source": [
    "output_g = \"{:d}\".format(-52) #음수 기호 출력\n",
    "print(output_g)"
   ]
  },
  {
   "cell_type": "code",
   "execution_count": 6,
   "id": "dd4900b0",
   "metadata": {},
   "outputs": [
    {
     "name": "stdout",
     "output_type": "stream",
     "text": [
      " 52\n"
     ]
    }
   ],
   "source": [
    "output_h = \"{: d}\".format(52)  #기호 부분 공백\n",
    "print(output_h)"
   ]
  },
  {
   "cell_type": "code",
   "execution_count": 11,
   "id": "3549a33e",
   "metadata": {},
   "outputs": [
    {
     "name": "stdout",
     "output_type": "stream",
     "text": [
      "   52\n"
     ]
    }
   ],
   "source": [
    "output_b = \"{:5d}\".format(52) #5칸 중에서 뒤부터52채우고 나머지 공백 \n",
    "print(output_b)"
   ]
  },
  {
   "cell_type": "code",
   "execution_count": 13,
   "id": "caa2af1a",
   "metadata": {},
   "outputs": [
    {
     "name": "stdout",
     "output_type": "stream",
     "text": [
      "00052\n"
     ]
    }
   ],
   "source": [
    "output_c = \"{:05d}\".format(52) #빈칸을 0으로채우기 \n",
    "print(output_c)"
   ]
  },
  {
   "cell_type": "code",
   "execution_count": 14,
   "id": "4355e022",
   "metadata": {},
   "outputs": [
    {
     "name": "stdout",
     "output_type": "stream",
     "text": [
      "-0052\n"
     ]
    }
   ],
   "source": [
    "output_d = \"{:05d}\".format(-52) \n",
    "print(output_d)"
   ]
  },
  {
   "cell_type": "code",
   "execution_count": 19,
   "id": "f29aaa63",
   "metadata": {},
   "outputs": [
    {
     "name": "stdout",
     "output_type": "stream",
     "text": [
      "52.273000\n"
     ]
    }
   ],
   "source": [
    "output_aa = \"{:f}\".format(52.273)\n",
    "print(output_aa)"
   ]
  },
  {
   "cell_type": "markdown",
   "id": "6fcc0583",
   "metadata": {},
   "source": [
    "부동 소수점 출력의 다양항 형태"
   ]
  },
  {
   "cell_type": "code",
   "execution_count": 34,
   "id": "cdb2b502",
   "metadata": {},
   "outputs": [
    {
     "name": "stdout",
     "output_type": "stream",
     "text": [
      "      52.273000\n"
     ]
    }
   ],
   "source": [
    "output_bb = \"{:15f}\".format(52.273) #15칸만들기\n",
    "print(output_bb)"
   ]
  },
  {
   "cell_type": "code",
   "execution_count": 33,
   "id": "dd6184c4",
   "metadata": {},
   "outputs": [
    {
     "name": "stdout",
     "output_type": "stream",
     "text": [
      "     +52.273000\n"
     ]
    }
   ],
   "source": [
    "output_cc = \"{:+15f}\".format(52.273) #15칸에 부호 추가하기\n",
    "print(output_cc)"
   ]
  },
  {
   "cell_type": "code",
   "execution_count": 32,
   "id": "79aada06",
   "metadata": {},
   "outputs": [
    {
     "name": "stdout",
     "output_type": "stream",
     "text": [
      "+0000052.273000\n"
     ]
    }
   ],
   "source": [
    "output_dd = \"{:+015f}\".format(52.273) #15칸에 부호 추가하고 0으로 채우기\n",
    "print(output_dd)"
   ]
  },
  {
   "cell_type": "markdown",
   "id": "4acbf3e5",
   "metadata": {},
   "source": [
    "소수점 아래 자릿수 지정하기"
   ]
  },
  {
   "cell_type": "code",
   "execution_count": 35,
   "id": "9b0e432a",
   "metadata": {},
   "outputs": [
    {
     "name": "stdout",
     "output_type": "stream",
     "text": [
      "         52.273\n"
     ]
    }
   ],
   "source": [
    "output_aaa = \"{:15.3f}\".format(52.273)\n",
    "print(output_aaa)"
   ]
  },
  {
   "cell_type": "code",
   "execution_count": 36,
   "id": "663d5c88",
   "metadata": {},
   "outputs": [
    {
     "name": "stdout",
     "output_type": "stream",
     "text": [
      "          52.27\n"
     ]
    }
   ],
   "source": [
    "output_bbb = \"{:15.2f}\".format(52.273)\n",
    "print(output_bbb)"
   ]
  },
  {
   "cell_type": "code",
   "execution_count": 38,
   "id": "2b131a4d",
   "metadata": {},
   "outputs": [
    {
     "name": "stdout",
     "output_type": "stream",
     "text": [
      "           52.3\n"
     ]
    }
   ],
   "source": [
    "output_ccc = \"{:15.1f}\".format(52.273)\n",
    "print(output_ccc)"
   ]
  },
  {
   "cell_type": "markdown",
   "id": "ac29124c",
   "metadata": {},
   "source": [
    "의미 없는 소수점 제거하기"
   ]
  },
  {
   "cell_type": "code",
   "execution_count": 40,
   "id": "a3ba4079",
   "metadata": {},
   "outputs": [
    {
     "name": "stdout",
     "output_type": "stream",
     "text": [
      "52.0\n",
      "52\n"
     ]
    }
   ],
   "source": [
    "output_z = 52.0\n",
    "output_zz = \"{:g}\".format(output_z)\n",
    "print(output_z)\n",
    "print(output_zz)"
   ]
  }
 ],
 "metadata": {
  "kernelspec": {
   "display_name": "Python 3 (ipykernel)",
   "language": "python",
   "name": "python3"
  },
  "language_info": {
   "codemirror_mode": {
    "name": "ipython",
    "version": 3
   },
   "file_extension": ".py",
   "mimetype": "text/x-python",
   "name": "python",
   "nbconvert_exporter": "python",
   "pygments_lexer": "ipython3",
   "version": "3.9.13"
  }
 },
 "nbformat": 4,
 "nbformat_minor": 5
}
