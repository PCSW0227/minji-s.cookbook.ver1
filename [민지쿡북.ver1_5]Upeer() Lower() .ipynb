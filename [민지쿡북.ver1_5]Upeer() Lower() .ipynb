{
 "cells": [
  {
   "cell_type": "markdown",
   "id": "9e1c74f4",
   "metadata": {},
   "source": [
    "대소문자 바꾸기 : upper()와 loswer()\n",
    "\n",
    "upper()함수는 문자열의 알파벳을 대문자로, lower()함수는 문자열의 알파벳을 소문자로 만듭니다.\n",
    "다음은 upper()함수의 예로, 변수a에 저장된 문자열의 알파벳을 모두 대문자로 만듭니다.\n"
   ]
  },
  {
   "cell_type": "code",
   "execution_count": 1,
   "id": "f5133dda",
   "metadata": {},
   "outputs": [
    {
     "name": "stdout",
     "output_type": "stream",
     "text": [
      "hello python programming\n"
     ]
    }
   ],
   "source": [
    "a = \"hello python programming\"\n",
    "a.upper()\n",
    "print(a)"
   ]
  },
  {
   "cell_type": "markdown",
   "id": "9fc6c5c0",
   "metadata": {},
   "source": [
    "문자열 양옆의 공백 제거하기 : strip(), 문자열 왼쪽의 공백을 제거하기 : lstrip(), 문자열 오른쪽의 공백을 제거하기 rstrip()\n",
    "\n",
    "예를 들어, 큰따옴표 또는 작은따옴표를 세 번 반복한 기호로 여러 문자열을 입력할 때 보기 쉽게 하려고 다음과 같이 코드를 작성하면 문자열 위아래에 의도하지 않은 줄바꿈이 들어갑니다."
   ]
  },
  {
   "cell_type": "code",
   "execution_count": 4,
   "id": "77012486",
   "metadata": {},
   "outputs": [
    {
     "name": "stdout",
     "output_type": "stream",
     "text": [
      "\n",
      "    안녕하세요\n",
      "문자열의 함수를 알아봅니다\n",
      "\n"
     ]
    }
   ],
   "source": [
    "input_z = \"\"\"\n",
    "    안녕하세요\n",
    "문자열의 함수를 알아봅니다\n",
    "\"\"\"\n",
    "\n",
    "print(input_z)"
   ]
  },
  {
   "cell_type": "code",
   "execution_count": 6,
   "id": "2483be98",
   "metadata": {},
   "outputs": [
    {
     "name": "stdout",
     "output_type": "stream",
     "text": [
      "안녕하세요\n",
      "문자열의 함수를 알아봅니다\n"
     ]
    }
   ],
   "source": [
    "print(input_z.strip())"
   ]
  },
  {
   "cell_type": "markdown",
   "id": "c5ae0b8a",
   "metadata": {},
   "source": [
    "문자열의 구성 파악하기 : isOO()\n",
    "\n",
    "문자열이 소문자로만 구성되어 있는지, 알파벳으로만 구성되어 있는지, 숫자로만 구성되어 있는지 등을 확인할 때는 is로 시작하는 이름의 함수를\n",
    "사용합니다. 아래 목록에 없는 것들도 많은데, 당연히 외우려고 하지 말고 '이런 이름은 이런 기능이 아닐까?'를 떠올리는 정도로만 살펴보길 \n",
    "바랍니다.\n",
    "\n",
    "isalnum() : 문자열이 알파벳 또는 숫자로만 구성되어 있는지 확인합니다.\n",
    "isalpha() : 문자열이 알파벳으로만 구성되어 있는지 확인합니다.\n",
    "isidentifier(): 문자열이 식별자로 사용할 수 있는 것인지 확인합니다\n",
    "isdecimal() : 문자열이 정수 형태인지 확인합니다.\n",
    "isdigit() : 문자열이 숫자로 인식될 수 있는 것인지 확인합니다.\n",
    "isspace() : 문자열이 공백으로만 구성되어 있는지 확인합니다. \n",
    "islower() : 문자열이 소문자로만 구성되어 있는지 확인합니다.\n",
    "isupper() : 문자열이 대문자로만 구성되어 있는지 확인합니다. "
   ]
  },
  {
   "cell_type": "code",
   "execution_count": 7,
   "id": "e0843a6d",
   "metadata": {},
   "outputs": [],
   "source": [
    "#간단히 설명하면, 출력은 True랑 Flase라고 나오는데, 이를 불이라고 합니다. "
   ]
  },
  {
   "cell_type": "code",
   "execution_count": 9,
   "id": "dbc46348",
   "metadata": {},
   "outputs": [
    {
     "name": "stdout",
     "output_type": "stream",
     "text": [
      "True\n"
     ]
    }
   ],
   "source": [
    "print(\"TrainA10\".isalnum())"
   ]
  },
  {
   "cell_type": "code",
   "execution_count": 11,
   "id": "cfbb0c11",
   "metadata": {},
   "outputs": [
    {
     "name": "stdout",
     "output_type": "stream",
     "text": [
      "True\n"
     ]
    }
   ],
   "source": [
    "print(\"10\".isdigit())"
   ]
  },
  {
   "cell_type": "markdown",
   "id": "c49d388c",
   "metadata": {},
   "source": [
    "isalnum()은 문자열이 알파벳 또는 숫자로만 구성되어 잇는지 확인하는 함수이므로 trainA10은 True(맞다)이고, isdigit()는 문자열이 숫자로 인식될 수 있는 것인지 확인하는 함수이므로 \"10:도 true입니다. "
   ]
  }
 ],
 "metadata": {
  "kernelspec": {
   "display_name": "Python 3 (ipykernel)",
   "language": "python",
   "name": "python3"
  },
  "language_info": {
   "codemirror_mode": {
    "name": "ipython",
    "version": 3
   },
   "file_extension": ".py",
   "mimetype": "text/x-python",
   "name": "python",
   "nbconvert_exporter": "python",
   "pygments_lexer": "ipython3",
   "version": "3.9.13"
  }
 },
 "nbformat": 4,
 "nbformat_minor": 5
}
