{
 "cells": [
  {
   "cell_type": "markdown",
   "id": "126d0bd1",
   "metadata": {},
   "source": [
    "문자열을 특정한 문자로 자를 때는 split()함수를 사용합니다"
   ]
  },
  {
   "cell_type": "code",
   "execution_count": 1,
   "id": "607df7ef",
   "metadata": {},
   "outputs": [
    {
     "name": "stdout",
     "output_type": "stream",
     "text": [
      "['10', '20', '30', '40', '50', '60']\n"
     ]
    }
   ],
   "source": [
    "a = \"10 20 30 40 50 60\".split()\n",
    "print(a)"
   ]
  },
  {
   "cell_type": "code",
   "execution_count": null,
   "id": "5fad2b14",
   "metadata": {},
   "outputs": [],
   "source": []
  }
 ],
 "metadata": {
  "kernelspec": {
   "display_name": "Python 3 (ipykernel)",
   "language": "python",
   "name": "python3"
  },
  "language_info": {
   "codemirror_mode": {
    "name": "ipython",
    "version": 3
   },
   "file_extension": ".py",
   "mimetype": "text/x-python",
   "name": "python",
   "nbconvert_exporter": "python",
   "pygments_lexer": "ipython3",
   "version": "3.9.13"
  }
 },
 "nbformat": 4,
 "nbformat_minor": 5
}
