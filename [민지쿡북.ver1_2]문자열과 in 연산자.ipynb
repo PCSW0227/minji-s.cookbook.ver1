{
 "cells": [
  {
   "cell_type": "markdown",
   "id": "7947a7fb",
   "metadata": {},
   "source": [
    "문자열 내부에 어떤 문자열이 있는지 확인하려면 in연산자를 사용합니다.\n",
    "\n",
    "출력은 True(맞다) 또는 False(아니다)이다.\n"
   ]
  },
  {
   "cell_type": "code",
   "execution_count": 2,
   "id": "e13161c6",
   "metadata": {},
   "outputs": [
    {
     "name": "stdout",
     "output_type": "stream",
     "text": [
      "True\n"
     ]
    }
   ],
   "source": [
    "print(\"안녕\"in\"안녕하세요\")"
   ]
  },
  {
   "cell_type": "code",
   "execution_count": null,
   "id": "4e64c6dc",
   "metadata": {},
   "outputs": [],
   "source": []
  }
 ],
 "metadata": {
  "kernelspec": {
   "display_name": "Python 3 (ipykernel)",
   "language": "python",
   "name": "python3"
  },
  "language_info": {
   "codemirror_mode": {
    "name": "ipython",
    "version": 3
   },
   "file_extension": ".py",
   "mimetype": "text/x-python",
   "name": "python",
   "nbconvert_exporter": "python",
   "pygments_lexer": "ipython3",
   "version": "3.9.13"
  }
 },
 "nbformat": 4,
 "nbformat_minor": 5
}
