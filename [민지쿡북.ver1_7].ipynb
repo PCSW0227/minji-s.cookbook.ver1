{
 "cells": [
  {
   "cell_type": "markdown",
   "id": "38a1dcc7",
   "metadata": {},
   "source": [
    "불린(Boolean)은 불린 혹은 불리언이라는 발음으로 부릅니다.\n",
    "프로그래밍에서는 짧게 Bool이라고 쓰기도 합니다.\n",
    "불은 오직 True(참) False(거짓)값만 가질 수 있습니다."
   ]
  },
  {
   "cell_type": "code",
   "execution_count": 1,
   "id": "b4280377",
   "metadata": {},
   "outputs": [
    {
     "name": "stdout",
     "output_type": "stream",
     "text": [
      "True\n"
     ]
    }
   ],
   "source": [
    "print(True)"
   ]
  },
  {
   "cell_type": "code",
   "execution_count": 2,
   "id": "a6705d62",
   "metadata": {},
   "outputs": [
    {
     "name": "stdout",
     "output_type": "stream",
     "text": [
      "False\n"
     ]
    }
   ],
   "source": [
    "print(False)"
   ]
  },
  {
   "cell_type": "markdown",
   "id": "42301040",
   "metadata": {},
   "source": [
    "하지만 참과 거짓을 그대로 입력하는 것은 큰 의미가 없습니다. 참과 거짓은 어떤 명제의 결과가 될 때 의미를 갖습니다"
   ]
  },
  {
   "cell_type": "markdown",
   "id": "ce65eef0",
   "metadata": {},
   "source": [
    "불 만들기 : 비교 연산자\n",
    "불은 비교 연사나자를 통해 만들 수 있습니다.\n",
    "파이썬에는 여섯 개의 비교 연산자가 있습니다.\n",
    "중고등학교 수학 시간에 배우는 기본적인 연산자랑 비슷합니다.\n",
    "== 같다 != 다르다 < 작다 > 크다 <= 작거나 같다 = 크거나 같다"
   ]
  },
  {
   "cell_type": "code",
   "execution_count": 3,
   "id": "b306e42c",
   "metadata": {},
   "outputs": [
    {
     "name": "stdout",
     "output_type": "stream",
     "text": [
      "False\n"
     ]
    }
   ],
   "source": [
    "print(10 == 100)\n"
   ]
  },
  {
   "cell_type": "code",
   "execution_count": 4,
   "id": "e1acb1fa",
   "metadata": {},
   "outputs": [
    {
     "name": "stdout",
     "output_type": "stream",
     "text": [
      "True\n"
     ]
    }
   ],
   "source": [
    "print(10!=100)"
   ]
  },
  {
   "cell_type": "code",
   "execution_count": 5,
   "id": "e56d2591",
   "metadata": {},
   "outputs": [
    {
     "name": "stdout",
     "output_type": "stream",
     "text": [
      "True\n"
     ]
    }
   ],
   "source": [
    "print(10<100)"
   ]
  },
  {
   "cell_type": "code",
   "execution_count": 6,
   "id": "b4b61f30",
   "metadata": {},
   "outputs": [
    {
     "name": "stdout",
     "output_type": "stream",
     "text": [
      "True\n"
     ]
    }
   ],
   "source": [
    "print(10<=100)"
   ]
  },
  {
   "cell_type": "code",
   "execution_count": 7,
   "id": "0f6a8c2b",
   "metadata": {},
   "outputs": [
    {
     "name": "stdout",
     "output_type": "stream",
     "text": [
      "False\n"
     ]
    }
   ],
   "source": [
    "print(10>=100)"
   ]
  },
  {
   "cell_type": "markdown",
   "id": "6d96dea3",
   "metadata": {},
   "source": [
    "그런데 파이썬은 문자열에서도 비교 연산자를 적용할 수 있습니다. \n",
    "이때 한글은 사전 순서(가나다순)로 앞에 있는 것이 작은 값을 가집니다.\n",
    "예를 들어 \"가방\"과 \"하마\"를 비교하면 사전 순서로 \"가방\"이 앞에 있으므로 \"가방\"이 \"하마\"보다 작은 값을 갖습니다.\n",
    "다음 코드를 통해 결과를 살펴봅시다."
   ]
  },
  {
   "cell_type": "code",
   "execution_count": 9,
   "id": "46383e41",
   "metadata": {},
   "outputs": [
    {
     "name": "stdout",
     "output_type": "stream",
     "text": [
      "True\n"
     ]
    }
   ],
   "source": [
    "print(\"가방\"==\"가방\")"
   ]
  },
  {
   "cell_type": "code",
   "execution_count": 10,
   "id": "d010713e",
   "metadata": {},
   "outputs": [
    {
     "name": "stdout",
     "output_type": "stream",
     "text": [
      "True\n"
     ]
    }
   ],
   "source": [
    "print(\"가방\"!=\"하마\")"
   ]
  },
  {
   "cell_type": "code",
   "execution_count": 11,
   "id": "820c8d63",
   "metadata": {},
   "outputs": [
    {
     "name": "stdout",
     "output_type": "stream",
     "text": [
      "True\n"
     ]
    }
   ],
   "source": [
    "print(\"가방\"<\"하마\")"
   ]
  },
  {
   "cell_type": "code",
   "execution_count": 12,
   "id": "e1d51f86",
   "metadata": {},
   "outputs": [
    {
     "name": "stdout",
     "output_type": "stream",
     "text": [
      "False\n"
     ]
    }
   ],
   "source": [
    "print(\"가방\">\"하마\")"
   ]
  },
  {
   "cell_type": "markdown",
   "id": "22418361",
   "metadata": {},
   "source": [
    "범위 구하기 \n",
    "\n",
    "파이썬은 다음과 같은 코드를 사용해 변수의 범위 등을 비교할 수 있습니다"
   ]
  },
  {
   "cell_type": "code",
   "execution_count": 13,
   "id": "f5673e28",
   "metadata": {},
   "outputs": [
    {
     "name": "stdout",
     "output_type": "stream",
     "text": [
      "True\n"
     ]
    }
   ],
   "source": [
    "x = 25\n",
    "print(10<x<30)"
   ]
  },
  {
   "cell_type": "code",
   "execution_count": null,
   "id": "48871c57",
   "metadata": {},
   "outputs": [],
   "source": []
  }
 ],
 "metadata": {
  "kernelspec": {
   "display_name": "Python 3 (ipykernel)",
   "language": "python",
   "name": "python3"
  },
  "language_info": {
   "codemirror_mode": {
    "name": "ipython",
    "version": 3
   },
   "file_extension": ".py",
   "mimetype": "text/x-python",
   "name": "python",
   "nbconvert_exporter": "python",
   "pygments_lexer": "ipython3",
   "version": "3.9.13"
  }
 },
 "nbformat": 4,
 "nbformat_minor": 5
}
